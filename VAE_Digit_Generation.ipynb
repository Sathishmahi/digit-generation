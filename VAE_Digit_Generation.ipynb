{
  "nbformat": 4,
  "nbformat_minor": 0,
  "metadata": {
    "colab": {
      "provenance": [],
      "gpuType": "T4"
    },
    "kernelspec": {
      "name": "python3",
      "display_name": "Python 3"
    },
    "language_info": {
      "name": "python"
    },
    "accelerator": "GPU"
  },
  "cells": [
    {
      "cell_type": "code",
      "execution_count": 1,
      "metadata": {
        "id": "qPrnXm_sPQ-L"
      },
      "outputs": [],
      "source": [
        "import tensorflow as tf\n",
        "import tensorflow_datasets as tf_ds"
      ]
    },
    {
      "cell_type": "code",
      "source": [
        "(x_train,_),(x_test,_)=tf.keras.datasets.mnist.load_data()"
      ],
      "metadata": {
        "colab": {
          "base_uri": "https://localhost:8080/"
        },
        "id": "lL7x2wbTPpG7",
        "outputId": "6771034b-e6a1-4eaa-f168-5ccea2ec348b"
      },
      "execution_count": 9,
      "outputs": [
        {
          "output_type": "stream",
          "name": "stdout",
          "text": [
            "Downloading data from https://storage.googleapis.com/tensorflow/tf-keras-datasets/mnist.npz\n",
            "11490434/11490434 [==============================] - 0s 0us/step\n"
          ]
        }
      ]
    },
    {
      "cell_type": "code",
      "source": [
        "data=tf.concat([x_train,x_test],axis=0)"
      ],
      "metadata": {
        "id": "Y2WOKjZQQMmt"
      },
      "execution_count": 95,
      "outputs": []
    },
    {
      "cell_type": "code",
      "source": [
        "a=tf.constant([[1,2,1],[1,2,1]])\n",
        "b=tf.constant([[2,2,2],[2,2,2]])"
      ],
      "metadata": {
        "id": "ArVNFclnQSZ4"
      },
      "execution_count": 24,
      "outputs": []
    },
    {
      "cell_type": "code",
      "source": [
        "a"
      ],
      "metadata": {
        "colab": {
          "base_uri": "https://localhost:8080/"
        },
        "id": "P-NvpeJNQjUo",
        "outputId": "e4bb5773-d649-4b52-9723-756755442ed4"
      },
      "execution_count": 25,
      "outputs": [
        {
          "output_type": "execute_result",
          "data": {
            "text/plain": [
              "<tf.Tensor: shape=(2, 3), dtype=int32, numpy=\n",
              "array([[1, 2, 1],\n",
              "       [1, 2, 1]], dtype=int32)>"
            ]
          },
          "metadata": {},
          "execution_count": 25
        }
      ]
    },
    {
      "cell_type": "code",
      "source": [
        "b"
      ],
      "metadata": {
        "colab": {
          "base_uri": "https://localhost:8080/"
        },
        "id": "iegUL_ZIQnJI",
        "outputId": "fa71a69c-98c6-4c3a-fc6f-9f3b523a3f91"
      },
      "execution_count": 26,
      "outputs": [
        {
          "output_type": "execute_result",
          "data": {
            "text/plain": [
              "<tf.Tensor: shape=(2, 3), dtype=int32, numpy=\n",
              "array([[2, 2, 2],\n",
              "       [2, 2, 2]], dtype=int32)>"
            ]
          },
          "metadata": {},
          "execution_count": 26
        }
      ]
    },
    {
      "cell_type": "code",
      "source": [
        "tf.concat([a,b],axis=-1)"
      ],
      "metadata": {
        "colab": {
          "base_uri": "https://localhost:8080/"
        },
        "id": "bLBjNljZQojF",
        "outputId": "698539f0-4a87-4fe6-83ac-2d1b29c39e7d"
      },
      "execution_count": 27,
      "outputs": [
        {
          "output_type": "execute_result",
          "data": {
            "text/plain": [
              "<tf.Tensor: shape=(2, 6), dtype=int32, numpy=\n",
              "array([[1, 2, 1, 2, 2, 2],\n",
              "       [1, 2, 1, 2, 2, 2]], dtype=int32)>"
            ]
          },
          "metadata": {},
          "execution_count": 27
        }
      ]
    },
    {
      "cell_type": "code",
      "source": [
        "data=tf.expand_dims(data,axis=-1)\n",
        "data=tf.cast(data,dtype=tf.float32)\n",
        "data=data/255."
      ],
      "metadata": {
        "id": "51mHSB6JQs8F"
      },
      "execution_count": 96,
      "outputs": []
    },
    {
      "cell_type": "code",
      "source": [
        "data.shape"
      ],
      "metadata": {
        "colab": {
          "base_uri": "https://localhost:8080/"
        },
        "id": "NQpXoJWaRDlf",
        "outputId": "705eb889-6e7d-454e-af16-4b23702ea891"
      },
      "execution_count": 97,
      "outputs": [
        {
          "output_type": "execute_result",
          "data": {
            "text/plain": [
              "TensorShape([70000, 28, 28, 1])"
            ]
          },
          "metadata": {},
          "execution_count": 97
        }
      ]
    },
    {
      "cell_type": "code",
      "source": [
        "data=tf.data.Dataset.from_tensor_slices(data)"
      ],
      "metadata": {
        "id": "ID0U0pF5ROMk"
      },
      "execution_count": 98,
      "outputs": []
    },
    {
      "cell_type": "code",
      "source": [
        "data=data.shuffle(buffer_size=1000).batch(32).prefetch(tf.data.AUTOTUNE)"
      ],
      "metadata": {
        "id": "ExMqT2ulR3Ch"
      },
      "execution_count": 99,
      "outputs": []
    },
    {
      "cell_type": "code",
      "source": [
        "len(data)"
      ],
      "metadata": {
        "colab": {
          "base_uri": "https://localhost:8080/"
        },
        "id": "q1Fy2NOEm-8N",
        "outputId": "a1b94b5a-2f68-43b6-83d8-80a6fdf49da0"
      },
      "execution_count": 100,
      "outputs": [
        {
          "output_type": "execute_result",
          "data": {
            "text/plain": [
              "2188"
            ]
          },
          "metadata": {},
          "execution_count": 100
        }
      ]
    },
    {
      "cell_type": "code",
      "source": [
        "from tensorflow.keras.layers import Dense,Conv2D,Flatten,Input,Reshape,Conv2DTranspose"
      ],
      "metadata": {
        "id": "ylQ2zN4IR51S"
      },
      "execution_count": 63,
      "outputs": []
    },
    {
      "cell_type": "code",
      "source": [
        "class Sampling(tf.keras.layers.Layer):\n",
        "  def call(self,inp):\n",
        "    mean,log_var=inp\n",
        "    # print(inp[0].shape[0])\n",
        "    s=inp[0].shape[0]\n",
        "    in_shap= s if s else 32\n",
        "    return mean+tf.math.exp(0.5*log_var)*tf.random.normal(shape=[in_shap,LATEN_INP])"
      ],
      "metadata": {
        "id": "JyZNMjTiXTqn"
      },
      "execution_count": 109,
      "outputs": []
    },
    {
      "cell_type": "code",
      "source": [
        "LATEN_INP=2\n",
        "encod_inp=Input(shape=(28,28,1))\n",
        "x=Conv2D(32,3,strides=2,activation=\"relu\",padding=\"same\")(encod_inp)\n",
        "x=Conv2D(64,3,strides=2,activation=\"relu\",padding=\"same\")(x)\n",
        "x=Flatten()(x)\n",
        "x=Dense(16,activation=\"relu\")(x)\n",
        "mean=Dense(LATEN_INP)(x)\n",
        "log_var=Dense(LATEN_INP)(x)\n",
        "z=Sampling()([mean,log_var])\n",
        "en_model=tf.keras.models.Model(encod_inp,[z,mean,log_var])"
      ],
      "metadata": {
        "id": "4P0sNm79R-u6"
      },
      "execution_count": 110,
      "outputs": []
    },
    {
      "cell_type": "code",
      "source": [
        "# en_model(tf.random.normal((32,28,28,1)))"
      ],
      "metadata": {
        "id": "P8ZaJYGOopNB"
      },
      "execution_count": 111,
      "outputs": []
    },
    {
      "cell_type": "code",
      "source": [
        "en_model.summary()"
      ],
      "metadata": {
        "colab": {
          "base_uri": "https://localhost:8080/"
        },
        "id": "m-skv0L-YVwi",
        "outputId": "84b2e76a-4316-4039-8828-2ab6c4bd1b83"
      },
      "execution_count": 112,
      "outputs": [
        {
          "output_type": "stream",
          "name": "stdout",
          "text": [
            "Model: \"model_5\"\n",
            "__________________________________________________________________________________________________\n",
            " Layer (type)                   Output Shape         Param #     Connected to                     \n",
            "==================================================================================================\n",
            " input_27 (InputLayer)          [(None, 28, 28, 1)]  0           []                               \n",
            "                                                                                                  \n",
            " conv2d_29 (Conv2D)             (None, 14, 14, 32)   320         ['input_27[0][0]']               \n",
            "                                                                                                  \n",
            " conv2d_30 (Conv2D)             (None, 7, 7, 64)     18496       ['conv2d_29[0][0]']              \n",
            "                                                                                                  \n",
            " flatten_14 (Flatten)           (None, 3136)         0           ['conv2d_30[0][0]']              \n",
            "                                                                                                  \n",
            " dense_46 (Dense)               (None, 16)           50192       ['flatten_14[0][0]']             \n",
            "                                                                                                  \n",
            " dense_47 (Dense)               (None, 2)            34          ['dense_46[0][0]']               \n",
            "                                                                                                  \n",
            " dense_48 (Dense)               (None, 2)            34          ['dense_46[0][0]']               \n",
            "                                                                                                  \n",
            " sampling_13 (Sampling)         (32, 2)              0           ['dense_47[0][0]',               \n",
            "                                                                  'dense_48[0][0]']               \n",
            "                                                                                                  \n",
            "==================================================================================================\n",
            "Total params: 69,076\n",
            "Trainable params: 69,076\n",
            "Non-trainable params: 0\n",
            "__________________________________________________________________________________________________\n"
          ]
        }
      ]
    },
    {
      "cell_type": "code",
      "source": [],
      "metadata": {
        "id": "YW0qFtMgerUd"
      },
      "execution_count": 112,
      "outputs": []
    },
    {
      "cell_type": "code",
      "source": [
        "decode_in=Input(shape=(LATEN_INP,))\n",
        "x=Dense(7*7*64,activation=\"relu\")(decode_in)\n",
        "x=Reshape((7,7,64))(x)\n",
        "x=Conv2DTranspose(32,3,strides=2,activation=\"relu\",padding=\"same\")(x)\n",
        "x=Conv2DTranspose(32,3,strides=2,activation=\"relu\",padding=\"same\")(x)\n",
        "decode_out=Conv2DTranspose(1,3,activation=\"sigmoid\",padding=\"same\")(x)\n",
        "decode_model=tf.keras.models.Model(decode_in,decode_out)"
      ],
      "metadata": {
        "id": "72pseZicaJHz"
      },
      "execution_count": 113,
      "outputs": []
    },
    {
      "cell_type": "code",
      "source": [
        "decode_model.summary()"
      ],
      "metadata": {
        "colab": {
          "base_uri": "https://localhost:8080/"
        },
        "id": "0WwBuemsemT6",
        "outputId": "4698e6c9-3ab4-4423-ca5c-a2b713134c70"
      },
      "execution_count": 114,
      "outputs": [
        {
          "output_type": "stream",
          "name": "stdout",
          "text": [
            "Model: \"model_6\"\n",
            "_________________________________________________________________\n",
            " Layer (type)                Output Shape              Param #   \n",
            "=================================================================\n",
            " input_28 (InputLayer)       [(None, 2)]               0         \n",
            "                                                                 \n",
            " dense_49 (Dense)            (None, 3136)              9408      \n",
            "                                                                 \n",
            " reshape_4 (Reshape)         (None, 7, 7, 64)          0         \n",
            "                                                                 \n",
            " conv2d_transpose_9 (Conv2DT  (None, 14, 14, 32)       18464     \n",
            " ranspose)                                                       \n",
            "                                                                 \n",
            " conv2d_transpose_10 (Conv2D  (None, 28, 28, 32)       9248      \n",
            " Transpose)                                                      \n",
            "                                                                 \n",
            " conv2d_transpose_11 (Conv2D  (None, 28, 28, 1)        289       \n",
            " Transpose)                                                      \n",
            "                                                                 \n",
            "=================================================================\n",
            "Total params: 37,409\n",
            "Trainable params: 37,409\n",
            "Non-trainable params: 0\n",
            "_________________________________________________________________\n"
          ]
        }
      ]
    },
    {
      "cell_type": "code",
      "source": [
        "# en_model(tf.random.normal((1, 28, 28, 1)))"
      ],
      "metadata": {
        "id": "2WDmnldne_qk"
      },
      "execution_count": 115,
      "outputs": []
    },
    {
      "cell_type": "code",
      "source": [
        "# def custom_loss()"
      ],
      "metadata": {
        "id": "gHlQGPBTiEiq"
      },
      "execution_count": 118,
      "outputs": []
    },
    {
      "cell_type": "code",
      "source": [
        "vae_inp=Input((28,28,1))\n",
        "z,_,_=en_model(vae_inp)\n",
        "decode_out=decode_model(z)\n",
        "vae_model=tf.keras.models.Model(vae_inp,decode_out)"
      ],
      "metadata": {
        "id": "gwcUbXTChGUM"
      },
      "execution_count": 119,
      "outputs": []
    },
    {
      "cell_type": "code",
      "source": [
        "vae_model.summary()"
      ],
      "metadata": {
        "colab": {
          "base_uri": "https://localhost:8080/"
        },
        "id": "e0gkxpIdhtOI",
        "outputId": "76bc8bf9-86e3-43f6-a377-b01d4d6d4462"
      },
      "execution_count": 120,
      "outputs": [
        {
          "output_type": "stream",
          "name": "stdout",
          "text": [
            "Model: \"model_8\"\n",
            "_________________________________________________________________\n",
            " Layer (type)                Output Shape              Param #   \n",
            "=================================================================\n",
            " input_30 (InputLayer)       [(None, 28, 28, 1)]       0         \n",
            "                                                                 \n",
            " model_5 (Functional)        [(32, 2),                 69076     \n",
            "                              (None, 2),                         \n",
            "                              (None, 2)]                         \n",
            "                                                                 \n",
            " model_6 (Functional)        (None, 28, 28, 1)         37409     \n",
            "                                                                 \n",
            "=================================================================\n",
            "Total params: 106,485\n",
            "Trainable params: 106,485\n",
            "Non-trainable params: 0\n",
            "_________________________________________________________________\n"
          ]
        }
      ]
    },
    {
      "cell_type": "code",
      "source": [
        "def custom_loss(y_true,y_pred,mean,log_var):\n",
        "\n",
        "  loss_rec = tf.reduce_mean(tf.reduce_sum(tf.keras.losses.binary_crossentropy(y_true,y_pred), axis = (1,2)))\n",
        "\n",
        "  loss_reg = -0.5 * (1 + log_var - tf.square(mean) - tf.exp(log_var))\n",
        "\n",
        "  return loss_rec+tf.reduce_mean(tf.reduce_sum(loss_reg, axis=1))"
      ],
      "metadata": {
        "id": "kyWebIguh5kJ"
      },
      "execution_count": 121,
      "outputs": []
    },
    {
      "cell_type": "code",
      "source": [
        "optimi=tf.keras.optimizers.Adam(learning_rate=1e-3)"
      ],
      "metadata": {
        "id": "XSK7Rdb5kmx1"
      },
      "execution_count": 122,
      "outputs": []
    },
    {
      "cell_type": "code",
      "source": [
        "def train_step(x_batches):\n",
        "  with tf.GradientTape() as recorder:\n",
        "    z,mean,log_var=en_model(x_batches)\n",
        "    y_pre=decode_model(z)\n",
        "    y_tru=x_batches\n",
        "    loss=custom_loss(y_tru,y_pre,mean,log_var)\n",
        "  partial_derivatives=recorder.gradient(loss,vae_model.trainable_weights)\n",
        "  optimi.apply_gradients(zip(partial_derivatives,vae_model.trainable_weights))\n",
        "  return loss\n"
      ],
      "metadata": {
        "id": "-zIB7y-8ipYz"
      },
      "execution_count": 123,
      "outputs": []
    },
    {
      "cell_type": "code",
      "source": [
        "# train_step(tf.random.normal((32,28,28,1)))"
      ],
      "metadata": {
        "id": "51jhXYi4kwDU"
      },
      "execution_count": 124,
      "outputs": []
    },
    {
      "cell_type": "code",
      "source": [
        "def fit(epochs):\n",
        "  loss_dict={}\n",
        "  print(\"==== Training start ====\")\n",
        "  for epoch in range(1,epochs+1):\n",
        "    print(f\"current epoch is {epoch}\")\n",
        "    for step,x_batch in enumerate(data):\n",
        "      loss=train_step(x_batch)\n",
        "    print(f\"after complete {epoch} epoch loss is {loss}\")\n",
        "    loss_dict.update({epoch:loss})\n",
        "  print(\"Training Done\")\n",
        "  return loss"
      ],
      "metadata": {
        "id": "Aj2kGXWTlE_D"
      },
      "execution_count": 127,
      "outputs": []
    },
    {
      "cell_type": "code",
      "source": [
        "fit(10)"
      ],
      "metadata": {
        "id": "eXE-kr5XmwQh"
      },
      "execution_count": null,
      "outputs": []
    },
    {
      "cell_type": "code",
      "source": [
        "out=vae_model.layers[2](tf.constant([[1,2],[2,1],[0.1,0.2]]))"
      ],
      "metadata": {
        "id": "jTpvMc1Smx3z"
      },
      "execution_count": 141,
      "outputs": []
    },
    {
      "cell_type": "code",
      "source": [
        "out.shape"
      ],
      "metadata": {
        "colab": {
          "base_uri": "https://localhost:8080/"
        },
        "id": "UPx8PM50tNX4",
        "outputId": "7592e1cc-7358-48bc-aa74-3d72be23f39d"
      },
      "execution_count": 142,
      "outputs": [
        {
          "output_type": "execute_result",
          "data": {
            "text/plain": [
              "TensorShape([3, 28, 28, 1])"
            ]
          },
          "metadata": {},
          "execution_count": 142
        }
      ]
    },
    {
      "cell_type": "code",
      "source": [
        "import matplotlib.pyplot as plt\n",
        "plt.imshow(out[2])"
      ],
      "metadata": {
        "colab": {
          "base_uri": "https://localhost:8080/",
          "height": 447
        },
        "id": "qaO-mqO5tcWl",
        "outputId": "845d2c29-7953-4cd8-f6d3-93431aa795a4"
      },
      "execution_count": 143,
      "outputs": [
        {
          "output_type": "execute_result",
          "data": {
            "text/plain": [
              "<matplotlib.image.AxesImage at 0x7f93683dc3d0>"
            ]
          },
          "metadata": {},
          "execution_count": 143
        },
        {
          "output_type": "display_data",
          "data": {
            "text/plain": [
              "<Figure size 640x480 with 1 Axes>"
            ],
            "image/png": "[encoded data removed]"
          },
          "metadata": {}
        }
      ]
    },
    {
      "cell_type": "code",
      "source": [
        "## to plot the mean and var\n",
        "(x_train,y_train),(x_test,y_test)=tf.keras.datasets.mnist.load_data()\n"
      ],
      "metadata": {
        "id": "i6aGF2S9wBbP"
      },
      "execution_count": 148,
      "outputs": []
    },
    {
      "cell_type": "code",
      "source": [
        "_,mean,var=vae_model.layers[1](x_test)"
      ],
      "metadata": {
        "id": "z5VuSBw7tj2f"
      },
      "execution_count": 149,
      "outputs": []
    },
    {
      "cell_type": "code",
      "source": [],
      "metadata": {
        "colab": {
          "base_uri": "https://localhost:8080/"
        },
        "id": "TLNkKULXxYJt",
        "outputId": "a33fc6c9-8aab-41dc-ca1a-cac56836d766"
      },
      "execution_count": 157,
      "outputs": [
        {
          "output_type": "execute_result",
          "data": {
            "text/plain": [
              "(60000, 2)"
            ]
          },
          "metadata": {},
          "execution_count": 157
        }
      ]
    },
    {
      "cell_type": "code",
      "source": [
        "z,_,_=vae_model.layers[1].predict(x_train)\n",
        "plt.figure(figsize=(12,12))\n",
        "plt.scatter(z[:,0],z[:,1],c=y_train)\n",
        "plt.colorbar()\n",
        "plt.show()"
      ],
      "metadata": {
        "colab": {
          "base_uri": "https://localhost:8080/",
          "height": 1000
        },
        "id": "vuSw6201wQ9B",
        "outputId": "c9c5ebd7-e03d-437b-cdc1-f9ac33f51211"
      },
      "execution_count": 156,
      "outputs": [
        {
          "output_type": "stream",
          "name": "stdout",
          "text": [
            "1875/1875 [==============================] - 4s 2ms/step\n"
          ]
        },
        {
          "output_type": "display_data",
          "data": {
            "text/plain": [
              "<Figure size 1200x1200 with 2 Axes>"
            ],
            "image/png": "[encoded data removed]"
          },
          "metadata": {}
        }
      ]
    },
    {
      "cell_type": "code",
      "source": [],
      "metadata": {
        "id": "v-EY7CPWwlkL"
      },
      "execution_count": null,
      "outputs": []
    }
  ]
}